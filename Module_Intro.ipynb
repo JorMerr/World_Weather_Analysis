{
 "cells": [
  {
   "cell_type": "code",
   "execution_count": 1,
   "id": "80a6065d",
   "metadata": {},
   "outputs": [],
   "source": [
    "# Import the random module.\n",
    "import random"
   ]
  },
  {
   "cell_type": "code",
   "execution_count": 2,
   "id": "adc316c1",
   "metadata": {},
   "outputs": [
    {
     "data": {
      "text/plain": [
       "41"
      ]
     },
     "execution_count": 2,
     "metadata": {},
     "output_type": "execute_result"
    }
   ],
   "source": [
    "random.randint(-90,90)"
   ]
  },
  {
   "cell_type": "code",
   "execution_count": 3,
   "id": "2040f62f",
   "metadata": {},
   "outputs": [
    {
     "data": {
      "text/plain": [
       "0.25578265861126626"
      ]
     },
     "execution_count": 3,
     "metadata": {},
     "output_type": "execute_result"
    }
   ],
   "source": [
    "random.random()"
   ]
  },
  {
   "cell_type": "code",
   "execution_count": 5,
   "id": "18821e3a",
   "metadata": {},
   "outputs": [
    {
     "data": {
      "text/plain": [
       "12.99251169158941"
      ]
     },
     "execution_count": 5,
     "metadata": {},
     "output_type": "execute_result"
    }
   ],
   "source": [
    "random_number = random.randint(-90, 89) + random.random()\n",
    "random_number"
   ]
  },
  {
   "cell_type": "code",
   "execution_count": 6,
   "id": "ab7cc824",
   "metadata": {},
   "outputs": [
    {
     "data": {
      "text/plain": [
       "[22.260331155144026,\n",
       " -5.015450022582694,\n",
       " -66.01205156027117,\n",
       " -4.3147174133931205,\n",
       " -52.76892824233019,\n",
       " 7.991133737994848,\n",
       " 13.305324662578007,\n",
       " -58.34919205430726,\n",
       " 63.95115618013266,\n",
       " -49.938410727773984]"
      ]
     },
     "execution_count": 6,
     "metadata": {},
     "output_type": "execute_result"
    }
   ],
   "source": [
    "x = 1\n",
    "latitudes = []\n",
    "while x < 11:\n",
    "    random_lat = random.randint(-90, 89) + random.random()\n",
    "    latitudes.append(random_lat)\n",
    "    x += 1\n",
    "latitudes"
   ]
  },
  {
   "cell_type": "code",
   "execution_count": 8,
   "id": "e71dcc19",
   "metadata": {},
   "outputs": [
    {
     "data": {
      "text/plain": [
       "45"
      ]
     },
     "execution_count": 8,
     "metadata": {},
     "output_type": "execute_result"
    }
   ],
   "source": [
    "random.randrange(-90, 90, step=3)"
   ]
  },
  {
   "cell_type": "code",
   "execution_count": 9,
   "id": "21d807ae",
   "metadata": {},
   "outputs": [
    {
     "data": {
      "text/plain": [
       "-37.71186658905471"
      ]
     },
     "execution_count": 9,
     "metadata": {},
     "output_type": "execute_result"
    }
   ],
   "source": [
    "random.uniform(-90, 90)"
   ]
  },
  {
   "cell_type": "code",
   "execution_count": 10,
   "id": "3d6518d2",
   "metadata": {},
   "outputs": [],
   "source": [
    "# Import the NumPy module.\n",
    "import numpy as np"
   ]
  },
  {
   "cell_type": "code",
   "execution_count": 11,
   "id": "405a3308",
   "metadata": {},
   "outputs": [
    {
     "data": {
      "text/plain": [
       "84.52208814180517"
      ]
     },
     "execution_count": 11,
     "metadata": {},
     "output_type": "execute_result"
    }
   ],
   "source": [
    "np.random.uniform(-90.000, 90.000)"
   ]
  },
  {
   "cell_type": "code",
   "execution_count": 12,
   "id": "8c93aadd",
   "metadata": {},
   "outputs": [
    {
     "data": {
      "text/plain": [
       "array([ 3.20837518e+01, -1.92032176e+01, -6.12371313e+01, -1.36298589e+01,\n",
       "        1.55912469e+01,  6.59621794e+01,  4.72277498e+01,  5.84952050e+01,\n",
       "        7.14506832e+01, -5.20364265e+01, -6.41726481e+01, -2.21964215e+01,\n",
       "        2.88784693e+00, -8.26944163e+01,  7.37047311e+01,  2.55717298e+01,\n",
       "        8.81564725e+01, -3.86710137e+01,  4.12598629e+01,  2.22313683e+01,\n",
       "        1.40278610e+00,  7.84562165e+01, -6.45706665e+01, -1.17567495e+01,\n",
       "        4.33824539e+01, -5.04983401e+01, -8.80078803e+00,  4.90015051e+01,\n",
       "        6.60969339e+01,  7.87374879e+01, -3.76841953e+01, -5.28815848e+01,\n",
       "       -1.72258265e+01, -9.24986295e+00,  2.44856659e+01,  8.50080492e+01,\n",
       "       -3.56946316e-03,  7.85261328e+01, -4.83256407e+01, -8.93417156e+01,\n",
       "        5.52468847e+01, -6.78457794e+01, -7.26989840e+01, -8.44513321e+01,\n",
       "        3.84553359e+01,  1.41746810e+01, -2.08878325e+01, -5.43836534e+01,\n",
       "       -2.72479978e+00,  4.79454295e+01])"
      ]
     },
     "execution_count": 12,
     "metadata": {},
     "output_type": "execute_result"
    }
   ],
   "source": [
    "np.random.uniform(-90.000, 90.000, size=50)"
   ]
  },
  {
   "cell_type": "code",
   "execution_count": 13,
   "id": "1c428474",
   "metadata": {},
   "outputs": [],
   "source": [
    "# Import timeit.\n",
    "import timeit"
   ]
  },
  {
   "cell_type": "code",
   "execution_count": 14,
   "id": "60a8658c",
   "metadata": {},
   "outputs": [
    {
     "name": "stdout",
     "output_type": "stream",
     "text": [
      "18.1 µs ± 854 ns per loop (mean ± std. dev. of 7 runs, 10000 loops each)\n"
     ]
    }
   ],
   "source": [
    "%timeit np.random.uniform(-90.000, 90.000, size=1500)"
   ]
  },
  {
   "cell_type": "code",
   "execution_count": 15,
   "id": "24a02d41",
   "metadata": {},
   "outputs": [
    {
     "name": "stdout",
     "output_type": "stream",
     "text": [
      "2.8 ms ± 103 µs per loop (mean ± std. dev. of 7 runs, 100 loops each)\n"
     ]
    }
   ],
   "source": [
    "def latitudes(size):\n",
    "    latitudes = []\n",
    "    x = 0\n",
    "    while x < (size):\n",
    "        random_lat = random.randint(-90, 90) + random.random()\n",
    "        latitudes.append(random_lat)\n",
    "        x += 1\n",
    "    return latitudes\n",
    "# Call the function with 1500.\n",
    "%timeit latitudes(1500)"
   ]
  },
  {
   "cell_type": "code",
   "execution_count": null,
   "id": "cf0dc963",
   "metadata": {},
   "outputs": [],
   "source": []
  }
 ],
 "metadata": {
  "kernelspec": {
   "display_name": "PythonData",
   "language": "python",
   "name": "pythondata"
  },
  "language_info": {
   "codemirror_mode": {
    "name": "ipython",
    "version": 3
   },
   "file_extension": ".py",
   "mimetype": "text/x-python",
   "name": "python",
   "nbconvert_exporter": "python",
   "pygments_lexer": "ipython3",
   "version": "3.7.11"
  }
 },
 "nbformat": 4,
 "nbformat_minor": 5
}
